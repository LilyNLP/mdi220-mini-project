{
  "nbformat": 4,
  "nbformat_minor": 0,
  "metadata": {
    "colab": {
      "name": "miniprojet.ipynb",
      "provenance": []
    },
    "kernelspec": {
      "name": "python3",
      "display_name": "Python 3"
    }
  },
  "cells": [
    {
      "cell_type": "code",
      "metadata": {
        "id": "ZMaPrejri9cl",
        "outputId": "1f67cddf-67aa-4daa-911d-8163cccb29ff",
        "colab": {
          "base_uri": "https://localhost:8080/"
        }
      },
      "source": [
        "from google.colab import drive\n",
        "drive.mount('/content/drive')"
      ],
      "execution_count": null,
      "outputs": [
        {
          "output_type": "stream",
          "text": [
            "Mounted at /content/drive\n"
          ],
          "name": "stdout"
        }
      ]
    },
    {
      "cell_type": "code",
      "metadata": {
        "id": "wIHiGxfAmjwW",
        "outputId": "fa798050-446e-4368-c868-b3a822c44fe7",
        "colab": {
          "base_uri": "https://localhost:8080/"
        }
      },
      "source": [
        "%cd /content/drive/My Drive/Colab Notebooks/MDI220/mini-projet\n",
        "%ls"
      ],
      "execution_count": null,
      "outputs": [
        {
          "output_type": "stream",
          "text": [
            "/content/drive/My Drive/Colab Notebooks/MDI220/mini-projet\n",
            "2a.jpg  MDI220-MINIPROJET.ipynb  NuclearPowerAccidents2016.csv\n",
            "3a.jpg  miniprojet.ipynb         pictures.ipynb\n"
          ],
          "name": "stdout"
        }
      ]
    },
    {
      "cell_type": "code",
      "metadata": {
        "id": "2n16D31oNqhm"
      },
      "source": [
        "import pandas as pd\n",
        "import  matplotlib.pyplot as plt\n",
        "import matplotlib.image as mpimg\n",
        "import scipy.stats as stats\n",
        "import numpy as np\n",
        "import seaborn as sns\n",
        "import math"
      ],
      "execution_count": null,
      "outputs": []
    },
    {
      "cell_type": "markdown",
      "metadata": {
        "id": "J4U69L5doX6i"
      },
      "source": [
        "# Exercise 1\n",
        "## 1"
      ]
    },
    {
      "cell_type": "code",
      "metadata": {
        "id": "Ei4VY5wrOmNO",
        "outputId": "b17c7203-8015-44e7-bbcd-d6da4caa0db6",
        "colab": {
          "base_uri": "https://localhost:8080/"
        }
      },
      "source": [
        "# read data\n",
        "data = pd.read_csv('./NuclearPowerAccidents2016.csv')\n",
        "print(\"Nombre totale d'accidents: %d.\" % data.shape[0])\n",
        "\n",
        "# select data before 3/28/1979\n",
        "data['Date'] = pd.to_datetime(data['Date'], format=\"%m/%d/%Y\")\n",
        "division_date = pd.to_datetime('3/28/1979', format=\"%m/%d/%Y\")\n",
        "data = data[data['Date'] < division_date]\n",
        "print(\"Nombre d'accidents avant 3/28/1979 is: %d.\" % data.shape[0])\n",
        "\n",
        "# select cost and remove missing values\n",
        "costs = data['Cost (millions 2013US$)']\n",
        "costs = costs.dropna(axis = 0)\n",
        "costs = costs.tolist()\n",
        "print(\"Dimension de vecteur de coût avant 3/28/1979 avec les observations manquantes surrprimées: %d.\" % len(costs))"
      ],
      "execution_count": null,
      "outputs": [
        {
          "output_type": "stream",
          "text": [
            "Nombre totale d'accidents: 216.\n",
            "Nombre d'accidents avant 3/28/1979 is: 56.\n",
            "Dimension de vecteur de coût avant 3/28/1979 avec les observations manquantes surrprimées: 55.\n"
          ],
          "name": "stdout"
        }
      ]
    },
    {
      "cell_type": "markdown",
      "metadata": {
        "id": "li2sUHEZpIVj"
      },
      "source": [
        "## 2\n",
        "\n",
        "### (a)\n",
        "\n",
        "![2a.jpg](https://github.com/LilyNLP/mdi220-mini-project/blob/main/2a.jpg?raw=true)\n",
        "\n",
        "### (b)"
      ]
    },
    {
      "cell_type": "code",
      "metadata": {
        "id": "og70H2K3OmTM",
        "outputId": "bb586d4f-9e21-4649-e9c6-e4424b6e2e78",
        "colab": {
          "base_uri": "https://localhost:8080/",
          "height": 312
        }
      },
      "source": [
        "fig = plt.figure()\n",
        "ax = fig.add_subplot(111)\n",
        "_,(_, _, r) = stats.probplot(costs, dist='norm', plot=ax)\n",
        "ax.set_title(\"QQ-plot de données pour la loi normale\")\n",
        "plt.show()\n",
        "print(\"La racine carrée du coefficient de détermination de la loi normale est: %f.\" % r)"
      ],
      "execution_count": null,
      "outputs": [
        {
          "output_type": "display_data",
          "data": {
            "image/png": "[encoded data removed]",
            "text/plain": [
              "<Figure size 432x288 with 1 Axes>"
            ]
          },
          "metadata": {
            "tags": [],
            "needs_background": "light"
          }
        },
        {
          "output_type": "stream",
          "text": [
            "La racine carrée du coefficient de détermination de la loi normale est: 0.743897.\n"
          ],
          "name": "stdout"
        }
      ]
    },
    {
      "cell_type": "markdown",
      "metadata": {
        "id": "2l54mp3_pfyw"
      },
      "source": [
        "## 3\n",
        "\n",
        "### (a)\n",
        "\n",
        "![3a](https://github.com/LilyNLP/mdi220-mini-project/blob/main/3a.jpg?raw=true)\n",
        "\n",
        "### (b)\n"
      ]
    },
    {
      "cell_type": "code",
      "metadata": {
        "id": "RXWnrJDQOmWj",
        "outputId": "771e7111-413c-4bb1-9261-65df16664ace",
        "colab": {
          "base_uri": "https://localhost:8080/",
          "height": 312
        }
      },
      "source": [
        "fig = plt.figure()\n",
        "ax = fig.add_subplot(111)\n",
        "_,(_, _, r) = stats.probplot(costs, dist=\"expon\", plot=ax)\n",
        "ax.set_title(\"Le QQ-plot de données pour la loi exponentielle\")\n",
        "plt.show()\n",
        "print(\"La racine carrée du coefficient de détermination de la loi exponentielle est: %f.\" % r)"
      ],
      "execution_count": null,
      "outputs": [
        {
          "output_type": "display_data",
          "data": {
            "image/png": "[encoded data removed]",
            "text/plain": [
              "<Figure size 432x288 with 1 Axes>"
            ]
          },
          "metadata": {
            "tags": [],
            "needs_background": "light"
          }
        },
        {
          "output_type": "stream",
          "text": [
            "La racine carrée du coefficient de détermination de la loi exponentielle est: 0.930509.\n"
          ],
          "name": "stdout"
        }
      ]
    },
    {
      "cell_type": "markdown",
      "metadata": {
        "id": "jQmbRBe60SRd"
      },
      "source": [
        "## 4\n",
        "On constate que le QQ-plot de données pour la loi exponentielle ressemble plus à une droite. Pour quantifier la comparaison, la racine carrée du coefficient de détermination de la loi exponentielle 0.930509 est plus haute que celle de la loi normale 0.743897.\n",
        "\n",
        "# Exercise 2\n",
        "## 1\n",
        "![2.1](https://github.com/LilyNLP/mdi220-mini-project/blob/main/2.1.jpg?raw=true)\n"
      ]
    },
    {
      "cell_type": "code",
      "metadata": {
        "id": "6slf5Zz01pUp",
        "outputId": "92f36df3-0c06-45ec-e565-e1ea738cefdd",
        "colab": {
          "base_uri": "https://localhost:8080/"
        }
      },
      "source": [
        "lambda_est = 1/(np.mean(costs))\n",
        "print(\"L'estimateur du maximum de vraisemblance est: %f.\" % lambda_est)"
      ],
      "execution_count": null,
      "outputs": [
        {
          "output_type": "stream",
          "text": [
            "L'estimateur du maximum de vraisemblance est: 0.001377.\n"
          ],
          "name": "stdout"
        }
      ]
    },
    {
      "cell_type": "markdown",
      "metadata": {
        "id": "sq03appRYq2p"
      },
      "source": [
        "## 2"
      ]
    },
    {
      "cell_type": "code",
      "metadata": {
        "id": "QeqBB6iEcDgr",
        "outputId": "7389c6fb-9e58-4ded-8da8-30ae25f2260c",
        "colab": {
          "base_uri": "https://localhost:8080/",
          "height": 321
        }
      },
      "source": [
        "fig = plt.figure()\n",
        "ax = fig.add_subplot(111) \n",
        "exp = np.random.exponential(scale = 1/lambda_est, size = 10000)\n",
        "sns.distplot(costs, ax=ax, kde=False, norm_hist=True, label = 'costs')\n",
        "sns.distplot(exp, ax=ax, kde=False, hist=False, fit=stats.expon, fit_kws={'color':'steelblue','linestyle':'--'}, label = 'exp')\n",
        "plt.legend() \n",
        "plt.show()"
      ],
      "execution_count": null,
      "outputs": [
        {
          "output_type": "stream",
          "text": [
            "/usr/local/lib/python3.6/dist-packages/seaborn/distributions.py:2551: FutureWarning: `distplot` is a deprecated function and will be removed in a future version. Please adapt your code to use either `displot` (a figure-level function with similar flexibility) or `histplot` (an axes-level function for histograms).\n",
            "  warnings.warn(msg, FutureWarning)\n"
          ],
          "name": "stderr"
        },
        {
          "output_type": "display_data",
          "data": {
            "image/png": "[encoded data removed]",
            "text/plain": [
              "<Figure size 432x288 with 1 Axes>"
            ]
          },
          "metadata": {
            "tags": [],
            "needs_background": "light"
          }
        }
      ]
    },
    {
      "cell_type": "markdown",
      "metadata": {
        "id": "L0hS3JtMVFxX"
      },
      "source": [
        "## 3\n",
        "![2.3](https://github.com/LilyNLP/mdi220-mini-project/blob/main/2.3.jpg?raw=true)\n",
        "## 4"
      ]
    },
    {
      "cell_type": "code",
      "metadata": {
        "id": "tEsdxfzkVOiI",
        "outputId": "d2431fd0-88b5-495e-e8c0-23c531e429b4",
        "colab": {
          "base_uri": "https://localhost:8080/"
        }
      },
      "source": [
        "T1 = np.mean(costs)\n",
        "print(\"g1 calculé en utilisant T1 est: %f.\" %T1)"
      ],
      "execution_count": null,
      "outputs": [
        {
          "output_type": "stream",
          "text": [
            "g1 calculé en utilisant T1 est: 726.336364.\n"
          ],
          "name": "stdout"
        }
      ]
    },
    {
      "cell_type": "markdown",
      "metadata": {
        "id": "QPb9i_PMpV12"
      },
      "source": [
        "## 5\n",
        "![2.5](https://github.com/LilyNLP/mdi220-mini-project/blob/main/2.5.jpg?raw=true)\n",
        "## 6\n",
        "![2.6](https://github.com/LilyNLP/mdi220-mini-project/blob/main/2.6.jpg?raw=true)"
      ]
    },
    {
      "cell_type": "code",
      "metadata": {
        "id": "IA236pQFpzfN",
        "outputId": "c014d49c-7f69-406d-8b8d-31be67ed163b",
        "colab": {
          "base_uri": "https://localhost:8080/"
        }
      },
      "source": [
        "# calculer l'estimateur\n",
        "coef = math.log(2)\n",
        "T1_coef = coef*np.mean(costs)\n",
        "print(\"L'estimateur sans biais de la médiane est: %f.\" % T1_coef)\n",
        "\n",
        "# calculer la médian empirique\n",
        "costs.sort()\n",
        "median = costs[28]\n",
        "print(\"La médian empirique est: %f\" % median)"
      ],
      "execution_count": null,
      "outputs": [
        {
          "output_type": "stream",
          "text": [
            "L'estimateur sans biais de la médiane est: 503.458003.\n",
            "La médian empirique est: 98.000000\n"
          ],
          "name": "stdout"
        }
      ]
    },
    {
      "cell_type": "markdown",
      "metadata": {
        "id": "oDISO9pfpzyW"
      },
      "source": [
        "\n",
        "\n",
        "## 7\n",
        "![2.7](https://github.com/LilyNLP/mdi220-mini-project/blob/main/2.7.jpg?raw=true)"
      ]
    },
    {
      "cell_type": "code",
      "metadata": {
        "id": "VYyMq1znzYJ2",
        "outputId": "7ef3f718-5f88-46a8-8a55-6678bea6919a",
        "colab": {
          "base_uri": "https://localhost:8080/"
        }
      },
      "source": [
        "threshold_n = (1-coef**2)/(coef**2-2*coef+1)\n",
        "print(\"Quand n > %f, EQM de T1_coef est plus grand, sinon EQM de T1 est plus grand.\" % threshold_n)"
      ],
      "execution_count": null,
      "outputs": [
        {
          "output_type": "stream",
          "text": [
            "Quand n > 5.517783, EQM de T1_coef est plus grand, sinon EQM de T1 est plus grand.\n"
          ],
          "name": "stdout"
        }
      ]
    },
    {
      "cell_type": "markdown",
      "metadata": {
        "id": "Ao1Y32wK1l1j"
      },
      "source": [
        "# Exercise3\n",
        "## 1\n",
        "![3.1](https://github.com/LilyNLP/mdi220-mini-project/blob/main/3.1.jpg?raw=true)\n",
        "## 2\n",
        "![3.2](https://github.com/LilyNLP/mdi220-mini-project/blob/main/3.2.jpg?raw=true)\n",
        "## 3\n",
        "Dans le test suivant, on constate que la somme des observations est plus petit que k. Ainsi on peut affirmer que le coût moyen d’accident est inférieur à un milliard."
      ]
    },
    {
      "cell_type": "code",
      "metadata": {
        "id": "vY8zFgfNX265",
        "outputId": "09f1d68a-b26d-4e55-b222-a5619b86f6d6",
        "colab": {
          "base_uri": "https://localhost:8080/"
        }
      },
      "source": [
        "k = stats.gamma.ppf(0.95, len(costs), scale = 1000)\n",
        "somme = np.sum(costs)\n",
        "print(\"La somme des observations est: %f.\" % somme)\n",
        "print(\"K est: %f.\" % k)\n",
        "p_value = 1 - stats.gamma.cdf(somme, len(costs), scale = 1000)\n",
        "print(\"La p-valeur est: %f.\" % p_value)"
      ],
      "execution_count": null,
      "outputs": [
        {
          "output_type": "stream",
          "text": [
            "La somme des observations est: 39948.500000.\n",
            "K est: 67740.088964.\n",
            "La p-valeur est: 0.986283.\n"
          ],
          "name": "stdout"
        }
      ]
    },
    {
      "cell_type": "markdown",
      "metadata": {
        "id": "ga8ogOoJaAkG"
      },
      "source": [
        "## 4"
      ]
    },
    {
      "cell_type": "code",
      "metadata": {
        "id": "BCG99jMWaE7-",
        "outputId": "23bdff11-7572-4a95-950a-e5e3766de6c3",
        "colab": {
          "base_uri": "https://localhost:8080/",
          "height": 321
        }
      },
      "source": [
        "fig = plt.figure()\n",
        "ax = fig.add_subplot(111)\n",
        "gamma1 = np.random.gamma(scale = 1000, shape = len(costs), size = 10000) / len(costs)\n",
        "sns.distplot(gamma1, ax=ax, kde=False, hist=False, fit=stats.gamma, fit_kws={'color':'steelblue','linestyle':'--'}, label = 'densité de T1') \n",
        "k1 = stats.gamma.ppf(0.95, len(costs), scale = 1000) / len(costs)\n",
        "plt.axvline(x=k1, color='y', linestyle='-', label = 'k, région de rejet')\n",
        "plt.legend()\n",
        "plt.show()"
      ],
      "execution_count": null,
      "outputs": [
        {
          "output_type": "stream",
          "text": [
            "/usr/local/lib/python3.6/dist-packages/seaborn/distributions.py:2551: FutureWarning: `distplot` is a deprecated function and will be removed in a future version. Please adapt your code to use either `displot` (a figure-level function with similar flexibility) or `histplot` (an axes-level function for histograms).\n",
            "  warnings.warn(msg, FutureWarning)\n"
          ],
          "name": "stderr"
        },
        {
          "output_type": "display_data",
          "data": {
            "image/png": "[encoded data removed]",
            "text/plain": [
              "<Figure size 432x288 with 1 Axes>"
            ]
          },
          "metadata": {
            "tags": [],
            "needs_background": "light"
          }
        }
      ]
    },
    {
      "cell_type": "markdown",
      "metadata": {
        "id": "rJ3P93dsaFCz"
      },
      "source": [
        "## 5"
      ]
    },
    {
      "cell_type": "code",
      "metadata": {
        "id": "615ySzSzaGGx",
        "outputId": "751d2d59-174c-457e-ad99-2db7cdb71a55",
        "colab": {
          "base_uri": "https://localhost:8080/",
          "height": 279
        }
      },
      "source": [
        "def puissance(lamda,n):\n",
        "    return 1 - stats.gamma.cdf(k, a=n, scale = 1/lamda)\n",
        "\n",
        "fig = plt.figure()\n",
        "ax = fig.add_subplot(111)\n",
        "lamda = np.array(range(1,100))/100000\n",
        "N = [10,50,100,500,100000]\n",
        "for n in N:\n",
        "    y =[puissance(x,n) for x in lamda]\n",
        "    plt.plot(lamda,y)\n",
        "plt.xlabel(\"lambda\")\n",
        "plt.ylabel(\"puissance\")\n",
        "plt.legend(N)\n",
        "plt.show()"
      ],
      "execution_count": null,
      "outputs": [
        {
          "output_type": "display_data",
          "data": {
            "image/png": "[encoded data removed]",
            "text/plain": [
              "<Figure size 432x288 with 1 Axes>"
            ]
          },
          "metadata": {
            "tags": [],
            "needs_background": "light"
          }
        }
      ]
    },
    {
      "cell_type": "markdown",
      "metadata": {
        "id": "W8_hx2zDaG4D"
      },
      "source": [
        "## 6\n",
        "![3.6](https://github.com/LilyNLP/mdi220-mini-project/blob/main/3.6.jpg?raw=true)"
      ]
    }
  ]
}